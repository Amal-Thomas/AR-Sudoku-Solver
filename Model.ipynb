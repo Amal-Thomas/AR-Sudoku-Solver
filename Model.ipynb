{
 "cells": [
  {
   "cell_type": "code",
   "execution_count": 6,
   "id": "f8b0e408",
   "metadata": {},
   "outputs": [
    {
     "name": "stdout",
     "output_type": "stream",
     "text": [
      "Epoch 1/8\n",
      "185/185 [==============================] - 7s 32ms/step - loss: 1.0012 - accuracy: 0.6651\n",
      "Epoch 2/8\n",
      "185/185 [==============================] - 6s 33ms/step - loss: 0.2338 - accuracy: 0.9288\n",
      "Epoch 3/8\n",
      "185/185 [==============================] - 6s 33ms/step - loss: 0.0991 - accuracy: 0.9707\n",
      "Epoch 4/8\n",
      "185/185 [==============================] - 6s 34ms/step - loss: 0.0480 - accuracy: 0.9851\n",
      "Epoch 5/8\n",
      "185/185 [==============================] - 6s 32ms/step - loss: 0.0247 - accuracy: 0.9931\n",
      "Epoch 6/8\n",
      "185/185 [==============================] - 6s 34ms/step - loss: 0.0328 - accuracy: 0.9895\n",
      "Epoch 7/8\n",
      "185/185 [==============================] - 6s 34ms/step - loss: 0.0170 - accuracy: 0.9958\n",
      "Epoch 8/8\n",
      "185/185 [==============================] - 6s 33ms/step - loss: 0.0037 - accuracy: 0.9995\n",
      "Saved model to disk\n"
     ]
    }
   ],
   "source": [
    "import cv2 as cv\n",
    "import numpy as np\n",
    "import os\n",
    "import keras\n",
    "import copy\n",
    "\n",
    "def load_images_from_folder(folder):\n",
    "    images = []\n",
    "    for filename in os.listdir(folder):\n",
    "        img = cv.imread(os.path.join(folder,filename))\n",
    "        if img is not None:\n",
    "            images.append(cv.cvtColor(img, cv.COLOR_BGR2GRAY))\n",
    "    return images\n",
    "\n",
    "X_train = []\n",
    "y_train = []\n",
    "for i in range(10):\n",
    "    r=np.array(load_images_from_folder('Printed Digits/Training/'+str(i)))\n",
    "    for j in range(r.shape[0]):\n",
    "        y_train.append(i)\n",
    "        X_train.append(r[j])\n",
    "X_train = np.array(X_train)\n",
    "y_train = np.array(y_train)\n",
    "\n",
    "from keras.datasets import mnist\n",
    "from keras.models import Sequential\n",
    "from keras.layers import Dense, Dropout, Flatten\n",
    "from keras.layers import Conv2D, MaxPooling2D\n",
    "from keras import backend as K\n",
    "\n",
    "X_train = X_train.reshape(X_train.shape[0], 28, 28, 1).astype('float32')\n",
    "\n",
    "X_train = X_train.astype('float32')\n",
    "\n",
    "X_train = (X_train / 255.0)\n",
    "\n",
    "model = Sequential()\n",
    "model.add(Conv2D(32, (3, 3), activation='relu', kernel_initializer='he_uniform', input_shape=(28, 28, 1)))\n",
    "model.add(MaxPooling2D(2, 2))\n",
    "model.add(Conv2D(64, (3, 3), activation='relu', kernel_initializer='he_uniform'))\n",
    "model.add(Conv2D(64, (3, 3), activation='relu', kernel_initializer='he_uniform'))\n",
    "model.add(MaxPooling2D(2, 2))\n",
    "model.add(Flatten())\n",
    "model.add(Dense(100, activation='relu', kernel_initializer='he_uniform'))\n",
    "model.add(Dense(10, activation='softmax'))\n",
    "# model.summary()\n",
    "\n",
    "# compile model\n",
    "model.compile(loss='sparse_categorical_crossentropy', optimizer='adam', metrics=['accuracy'])\n",
    "\n",
    "# Train the model\n",
    "history = model.fit(X_train, y_train, epochs=8)\n",
    "\n",
    "model.save(\"model.h5\")\n",
    "print(\"Saved model to disk\")"
   ]
  },
  {
   "cell_type": "code",
   "execution_count": null,
   "id": "9bebc97a",
   "metadata": {},
   "outputs": [],
   "source": []
  }
 ],
 "metadata": {
  "kernelspec": {
   "display_name": "Python 3",
   "language": "python",
   "name": "python3"
  },
  "language_info": {
   "codemirror_mode": {
    "name": "ipython",
    "version": 3
   },
   "file_extension": ".py",
   "mimetype": "text/x-python",
   "name": "python",
   "nbconvert_exporter": "python",
   "pygments_lexer": "ipython3",
   "version": "3.8.8"
  }
 },
 "nbformat": 4,
 "nbformat_minor": 5
}
